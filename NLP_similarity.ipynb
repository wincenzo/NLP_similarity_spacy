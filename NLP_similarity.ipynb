{
 "cells": [
  {
   "cell_type": "code",
   "execution_count": null,
   "metadata": {
    "colab": {
     "base_uri": "https://localhost:8080/",
     "height": 660
    },
    "colab_type": "code",
    "id": "UKH7kFGaUWr-",
    "outputId": "5a6b2682-7a8b-4f92-dbfb-2f410687d6e5"
   },
   "outputs": [
    {
     "name": "stdout",
     "output_type": "stream",
     "text": [
      "Collecting spaCy\n",
      "\u001b[?25l  Downloading https://files.pythonhosted.org/packages/7f/61/257772ee66e7586c914d61440978bd234c8cec2011cfa6682ba9dd54d8e5/spacy-2.1.7-cp36-cp36m-manylinux1_x86_64.whl (30.8MB)\n",
      "\u001b[K     |████████████████████████████████| 30.9MB 48.8MB/s \n",
      "\u001b[?25hRequirement already satisfied, skipping upgrade: wasabi<1.1.0,>=0.2.0 in /usr/local/lib/python3.6/dist-packages (from spaCy) (0.2.2)\n",
      "Requirement already satisfied, skipping upgrade: murmurhash<1.1.0,>=0.28.0 in /usr/local/lib/python3.6/dist-packages (from spaCy) (1.0.2)\n",
      "Requirement already satisfied, skipping upgrade: requests<3.0.0,>=2.13.0 in /usr/local/lib/python3.6/dist-packages (from spaCy) (2.21.0)\n",
      "Requirement already satisfied, skipping upgrade: preshed<2.1.0,>=2.0.1 in /usr/local/lib/python3.6/dist-packages (from spaCy) (2.0.1)\n",
      "Requirement already satisfied, skipping upgrade: numpy>=1.15.0 in /usr/local/lib/python3.6/dist-packages (from spaCy) (1.16.4)\n",
      "Requirement already satisfied, skipping upgrade: thinc<7.1.0,>=7.0.8 in /usr/local/lib/python3.6/dist-packages (from spaCy) (7.0.8)\n",
      "Requirement already satisfied, skipping upgrade: blis<0.3.0,>=0.2.2 in /usr/local/lib/python3.6/dist-packages (from spaCy) (0.2.4)\n",
      "Requirement already satisfied, skipping upgrade: srsly<1.1.0,>=0.0.6 in /usr/local/lib/python3.6/dist-packages (from spaCy) (0.0.7)\n",
      "Requirement already satisfied, skipping upgrade: plac<1.0.0,>=0.9.6 in /usr/local/lib/python3.6/dist-packages (from spaCy) (0.9.6)\n",
      "Requirement already satisfied, skipping upgrade: cymem<2.1.0,>=2.0.2 in /usr/local/lib/python3.6/dist-packages (from spaCy) (2.0.2)\n",
      "Requirement already satisfied, skipping upgrade: urllib3<1.25,>=1.21.1 in /usr/local/lib/python3.6/dist-packages (from requests<3.0.0,>=2.13.0->spaCy) (1.24.3)\n",
      "Requirement already satisfied, skipping upgrade: idna<2.9,>=2.5 in /usr/local/lib/python3.6/dist-packages (from requests<3.0.0,>=2.13.0->spaCy) (2.8)\n",
      "Requirement already satisfied, skipping upgrade: chardet<3.1.0,>=3.0.2 in /usr/local/lib/python3.6/dist-packages (from requests<3.0.0,>=2.13.0->spaCy) (3.0.4)\n",
      "Requirement already satisfied, skipping upgrade: certifi>=2017.4.17 in /usr/local/lib/python3.6/dist-packages (from requests<3.0.0,>=2.13.0->spaCy) (2019.6.16)\n",
      "Requirement already satisfied, skipping upgrade: tqdm<5.0.0,>=4.10.0 in /usr/local/lib/python3.6/dist-packages (from thinc<7.1.0,>=7.0.8->spaCy) (4.28.1)\n",
      "Installing collected packages: spaCy\n",
      "  Found existing installation: spacy 2.1.6\n",
      "    Uninstalling spacy-2.1.6:\n",
      "      Successfully uninstalled spacy-2.1.6\n",
      "Successfully installed spaCy-2.1.7\n",
      "Collecting en_core_web_lg==2.1.0 from https://github.com/explosion/spacy-models/releases/download/en_core_web_lg-2.1.0/en_core_web_lg-2.1.0.tar.gz#egg=en_core_web_lg==2.1.0\n",
      "\u001b[?25l  Downloading https://github.com/explosion/spacy-models/releases/download/en_core_web_lg-2.1.0/en_core_web_lg-2.1.0.tar.gz (826.9MB)\n",
      "\u001b[K     |████████████████████████████████| 826.9MB 52.0MB/s \n",
      "\u001b[?25hBuilding wheels for collected packages: en-core-web-lg\n",
      "  Building wheel for en-core-web-lg (setup.py) ... \u001b[?25l\u001b[?25hdone\n",
      "  Created wheel for en-core-web-lg: filename=en_core_web_lg-2.1.0-cp36-none-any.whl size=828255076 sha256=cf012e159dd0652314a10a708990eb90a1e53a292a970b78416a6ee6f19b4415\n",
      "  Stored in directory: /tmp/pip-ephem-wheel-cache-uof0hgrs/wheels/b4/d7/70/426d313a459f82ed5e06cc36a50e2bb2f0ec5cb31d8e0bdf09\n",
      "Successfully built en-core-web-lg\n",
      "Installing collected packages: en-core-web-lg\n",
      "Successfully installed en-core-web-lg-2.1.0\n",
      "\u001b[38;5;2m✔ Download and installation successful\u001b[0m\n",
      "You can now load the model via spacy.load('en_core_web_lg')\n"
     ]
    }
   ],
   "source": [
    "!pip install -U spaCy\n",
    "!python -m spacy download en_core_web_lg"
   ]
  },
  {
   "cell_type": "code",
   "execution_count": null,
   "metadata": {
    "colab": {},
    "colab_type": "code",
    "id": "zYTUzt63YDkl"
   },
   "outputs": [],
   "source": [
    "import os\n",
    "import shutil\n",
    "import spacy\n",
    "from spacy.pipeline import Sentencizer\n",
    "#from google.colab import files"
   ]
  },
  {
   "cell_type": "code",
   "execution_count": null,
   "metadata": {
    "colab": {},
    "colab_type": "code",
    "id": "NyjEr37eeGXy"
   },
   "outputs": [],
   "source": [
    "#files.upload()"
   ]
  },
  {
   "cell_type": "code",
   "execution_count": null,
   "metadata": {
    "colab": {},
    "colab_type": "code",
    "id": "AHBu1HQDy19w"
   },
   "outputs": [],
   "source": [
    "source = '/content'\n",
    "destination = '/content/test'\n",
    "\n",
    "texts = os.listdir(source)\n",
    "\n",
    "if not os.path.isdir(destination):\n",
    "    os.mkdir(destination)\n",
    "\n",
    "for t in texts:\n",
    "    if t.endswith('.txt'):\n",
    "        shutil.move(os.path.join(source, t), destination)\n",
    "\n",
    "texts = filter(lambda f: not f.startswith('.'), os.listdir(destination)) #ritorna un iterator ed omette i file nascosti"
   ]
  },
  {
   "cell_type": "code",
   "execution_count": null,
   "metadata": {
    "colab": {},
    "colab_type": "code",
    "id": "KD70ydfsF2Wt"
   },
   "outputs": [],
   "source": [
    "nlp = spacy.load('en_core_web_lg')"
   ]
  },
  {
   "cell_type": "code",
   "execution_count": 46,
   "metadata": {
    "colab": {
     "base_uri": "https://localhost:8080/",
     "height": 35
    },
    "colab_type": "code",
    "id": "FseWDq9wPwFV",
    "outputId": "d69a9ee5-e392-4638-f70b-517de57ebae5"
   },
   "outputs": [
    {
     "data": {
      "text/plain": [
       "['sentencizer', 'tagger', 'parser', 'ner']"
      ]
     },
     "execution_count": 46,
     "metadata": {
      "tags": []
     },
     "output_type": "execute_result"
    }
   ],
   "source": [
    "sentencizer = Sentencizer(punct_chars='\\t')\n",
    "nlp.add_pipe(sentencizer, first=True)\n",
    "nlp.disable_pipes('tagger', 'ner', 'parser')\n",
    "nlp.pipe_names"
   ]
  },
  {
   "cell_type": "code",
   "execution_count": null,
   "metadata": {
    "colab": {},
    "colab_type": "code",
    "id": "GMUmygXBYSwj"
   },
   "outputs": [],
   "source": [
    "def calcolo_similarità(filename):\n",
    "\n",
    "    with open(filename, 'r') as f:\n",
    "        doc = f.readlines()\n",
    "        #lista_doc = (list(nlp(line).sents) for line in doc)\n",
    "        #scores = (couple[0].similarity(couple[1])*5 for couple in lista_doc)\n",
    "        lista_doc = map(lambda line: list(nlp(line).sents), doc)\n",
    "        scores = map(lambda couple: couple[0].similarity(couple[1])*5, lista_doc )\n",
    "        #print(*(lista_doc[index] for index, value in enumerate(scores) if value < 3), sep='\\n')\n",
    "        #print(*lista_doc, sep='\\n')\n",
    "            \n",
    "    with open(os.getcwd() + '/scores.txt', 'a') as s:\n",
    "        s.write('Score: ' + os.path.basename(filename) + '\\n\\n')\n",
    "        print(next(scores) , sep='\\n', end='\\n\\n', file=s)"
   ]
  },
  {
   "cell_type": "code",
   "execution_count": 48,
   "metadata": {
    "colab": {
     "base_uri": "https://localhost:8080/",
     "height": 54
    },
    "colab_type": "code",
    "id": "Ni2V_kxMPDso",
    "outputId": "fd358f3b-7091-49d5-f15f-9c39aca2ba7e"
   },
   "outputs": [
    {
     "name": "stdout",
     "output_type": "stream",
     "text": [
      "The slowest run took 14499513.44 times longer than the fastest. This could mean that an intermediate result is being cached.\n",
      "1 loop, best of 3: 161 ns per loop\n"
     ]
    }
   ],
   "source": [
    "%%timeit\n",
    "for t in texts:\n",
    "        text = os.path.join(destination, t)\n",
    "        calcolo_similarità(text)"
   ]
  },
  {
   "cell_type": "code",
   "execution_count": 1,
   "metadata": {
    "colab": {},
    "colab_type": "code",
    "id": "uNPdbL1gdOpC"
   },
   "outputs": [],
   "source": [
    "def run (    x) :\n",
    "    print()"
   ]
  },
  {
   "cell_type": "code",
   "execution_count": null,
   "metadata": {},
   "outputs": [],
   "source": []
  }
 ],
 "metadata": {
  "accelerator": "GPU",
  "colab": {
   "collapsed_sections": [],
   "name": "Optimized_Challenge_NLP.ipynb",
   "provenance": [],
   "version": "0.3.2"
  },
  "kernelspec": {
   "display_name": "Python 3",
   "language": "python",
   "name": "python3"
  },
  "language_info": {
   "codemirror_mode": {
    "name": "ipython",
    "version": 3
   },
   "file_extension": ".py",
   "mimetype": "text/x-python",
   "name": "python",
   "nbconvert_exporter": "python",
   "pygments_lexer": "ipython3",
   "version": "3.7.6"
  }
 },
 "nbformat": 4,
 "nbformat_minor": 4
}
